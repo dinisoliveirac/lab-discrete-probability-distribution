{
 "cells": [
  {
   "cell_type": "markdown",
   "metadata": {},
   "source": [
    "# Before your start:\n",
    "\n",
    "    Read the README.md file\n",
    "    Comment as much as you can and use the resources (README.md file)\n",
    "    Happy learning!\n",
    "\n",
    "*Notes:* \n",
    "\n",
    "- Solve the questions with python.\n",
    "\n",
    "- Round the final answer to three decimal places."
   ]
  },
  {
   "cell_type": "code",
   "execution_count": 225,
   "metadata": {},
   "outputs": [],
   "source": [
    "from scipy import stats\n",
    "import matplotlib.pyplot as plt\n",
    "import numpy as np\n",
    "import math"
   ]
  },
  {
   "cell_type": "markdown",
   "metadata": {},
   "source": [
    "## Bernoulli's Distribution\n",
    "\n",
    "In a basket containing 100 fruits, there are 60 apples and 40 oranges. \n",
    "\n",
    "A fruit is picked randomly from the basket. \n",
    "\n",
    "1. **What is the probability that the fruit is apple?**\n",
    "1. **What is the probability that it is an orange?**"
   ]
  },
  {
   "cell_type": "markdown",
   "metadata": {},
   "source": [
    "Calculate:\n",
    "- p = probability that the fruit is an apple \n",
    "- q = probability that the fruit is an orange\n",
    "\n",
    "\n",
    "1. p = 60/100 = 0.6\n",
    "2. q = 40/100 = 0.4 "
   ]
  },
  {
   "cell_type": "code",
   "execution_count": 226,
   "metadata": {},
   "outputs": [],
   "source": [
    "p = 0.6\n",
    "q = 0.4"
   ]
  },
  {
   "cell_type": "code",
   "execution_count": 227,
   "metadata": {},
   "outputs": [
    {
     "name": "stdout",
     "output_type": "stream",
     "text": [
      "Probability Apple: 60.0%\n",
      "Probability Orange: 40.0%\n"
     ]
    }
   ],
   "source": [
    "print(f'Probability Apple: {p*100}%')\n",
    "print(f'Probability Orange: {q*100}%')"
   ]
  },
  {
   "cell_type": "markdown",
   "metadata": {},
   "source": [
    "Now we take a random sample of 20 fruits from the basket. After each fruit is taken, a new fruit of the same type is replaced in the basket. Therefore, every time we are taking 1 fruit from 100 fruits. \n",
    "\n",
    "1. **What is the probability that the first 5 fruits are all apples?**\n",
    "\n",
    "1. **What is the probability that the first 5 fruits are all apples and the next 15 fruits are all oranges?**\n",
    "\n",
    "You can include the `p` and `q` probabilities you previous calculated in your solution."
   ]
  },
  {
   "cell_type": "markdown",
   "metadata": {},
   "source": [
    "1. Probability first 5 fruits are all apples = p * p * p * p * p\n",
    "2. Probability first 5 fruits are all apples and next 15 are oranges = (p ** 5) * (q ** 15)"
   ]
  },
  {
   "cell_type": "code",
   "execution_count": 228,
   "metadata": {},
   "outputs": [
    {
     "name": "stdout",
     "output_type": "stream",
     "text": [
      "Probability first 5 fruits are all apples: 7.776%\n",
      "Probability first 5 fruits are all apples and next 15 are oranges: 8.349e-06%\n"
     ]
    }
   ],
   "source": [
    "# your code here\n",
    "\n",
    "first_5_apple = p**5\n",
    "apple_5_orange_15 = (p**5)*(q**15)\n",
    "    \n",
    "print(f'Probability first 5 fruits are all apples: {round(first_5_apple*100,3)}%')\n",
    "print(f'Probability first 5 fruits are all apples and next 15 are oranges: {round(apple_5_orange_15*100,9)}%')"
   ]
  },
  {
   "cell_type": "markdown",
   "metadata": {},
   "source": [
    "## Binomial Distribution\n",
    "\n",
    "Similar to the above problem, this time again we randomly sample 20 fruits.\n",
    "\n",
    "**What is the probability that this time the sample contains 5 apples and 15 oranges?**\n",
    "\n",
    "Please note that this time the order of the fruits being picked does not matter."
   ]
  },
  {
   "cell_type": "code",
   "execution_count": 229,
   "metadata": {},
   "outputs": [
    {
     "name": "stdout",
     "output_type": "stream",
     "text": [
      "Probability that sample contains 5 apples: 0.129%\n",
      "Probability that sample contains 15 oranges: 0.129%\n"
     ]
    }
   ],
   "source": [
    "# your code here\n",
    "\n",
    "# binom.pmf(k) = choose(n, k) * p**k * (1-p)**(n-k)\n",
    "# for k in {0, 1,..., n}.\n",
    "\n",
    "x = stats.binom.pmf(5,20,p)\n",
    "y = stats.binom.pmf(15,20,q)\n",
    "\n",
    "print(f'Probability that sample contains 5 apples: {round(x*100,3)}%')\n",
    "print(f'Probability that sample contains 15 oranges: {round(y*100,3)}%')"
   ]
  },
  {
   "cell_type": "markdown",
   "metadata": {},
   "source": [
    "In the lesson we also discussed CDF (cumulative distribution function). In the context of the above problem, **what is the probability that less than 5 fruits picked are apples?**\n",
    "\n",
    "Write the formula and calculate the probability below."
   ]
  },
  {
   "cell_type": "code",
   "execution_count": 230,
   "metadata": {},
   "outputs": [
    {
     "name": "stdout",
     "output_type": "stream",
     "text": [
      " Probability that less than 5 fruits picked are apples: 0.129%\n"
     ]
    }
   ],
   "source": [
    "# your code here\n",
    "\n",
    "z = stats.binom.cdf(4,20,p)\n",
    "\n",
    "print(f' Probability that less than 5 fruits picked are apples: {round(x*100,3)}%')"
   ]
  },
  {
   "cell_type": "markdown",
   "metadata": {},
   "source": [
    "**Plot the PDF (probability distributiom function) for the above binomial distribution.**\n",
    "\n",
    "*Hint: The range of x in a binomial distribution is from `0` to `n`.*"
   ]
  },
  {
   "cell_type": "code",
   "execution_count": 231,
   "metadata": {},
   "outputs": [
    {
     "data": {
      "text/plain": [
       "Text(0, 0.5, 'Probability %')"
      ]
     },
     "execution_count": 231,
     "metadata": {},
     "output_type": "execute_result"
    },
    {
     "data": {
      "image/png": "[encoded data removed]",
      "text/plain": [
       "<Figure size 432x288 with 1 Axes>"
      ]
     },
     "metadata": {
      "needs_background": "light"
     },
     "output_type": "display_data"
    }
   ],
   "source": [
    "# your code here\n",
    "# Please label the axes and give a title to the plot \n",
    "\n",
    "n, p = 20, 0.6 \n",
    "x = np.arange(stats.binom.ppf(0.001, n, p),\n",
    "              stats.binom.ppf(0.999, n, p))\n",
    "\n",
    "fmp = stats.binom.pmf(x, n, p)\n",
    "\n",
    "plt.plot(x, fmp, '-')\n",
    "plt.vlines(x, 0, fmp, colors = 'b', lw = 5, alpha = 0.5)\n",
    "plt.title('Binomial Distribution')\n",
    "plt.xlabel('Cases')\n",
    "plt.ylabel('Probability %')"
   ]
  },
  {
   "cell_type": "markdown",
   "metadata": {},
   "source": [
    "## Poisson Distribution\n",
    "\n",
    "In this challenge you are required to use the Math library in python to solve the problems.\n",
    "\n",
    "In the UEFA champions league tournament, the average number of goals scored in a match is 2.3. \n",
    "\n",
    "**What is the probability that the number of goals scored in a match is 5?**\n",
    "\n",
    "*Hint: Use the exp() in the math library*\n",
    "\n",
    "And to calculate the factorial, you can use the following code:\n",
    "\n",
    "```python\n",
    "import math\n",
    "math.factorial(n) # n is the number you want to find the factorial of\n",
    "```"
   ]
  },
  {
   "cell_type": "code",
   "execution_count": 232,
   "metadata": {},
   "outputs": [
    {
     "name": "stdout",
     "output_type": "stream",
     "text": [
      "Probability that the number of goals scored in a match is 5: 5.378%\n"
     ]
    }
   ],
   "source": [
    "# your code here \n",
    "\n",
    "number_goals_5 = (math.exp(-2.3)*2.3**5) / (math.factorial(5))\n",
    "\n",
    "print(f'Probability that the number of goals scored in a match is 5: {round(number_goals_5*100,3)}%')"
   ]
  },
  {
   "cell_type": "markdown",
   "metadata": {},
   "source": [
    "**Draw a poisson probability distribution plot for the number of goals to be between 0 to 10.**"
   ]
  },
  {
   "cell_type": "code",
   "execution_count": 233,
   "metadata": {},
   "outputs": [
    {
     "data": {
      "image/png": "[encoded data removed]",
      "text/plain": [
       "<Figure size 432x288 with 1 Axes>"
      ]
     },
     "metadata": {
      "needs_background": "light"
     },
     "output_type": "display_data"
    }
   ],
   "source": [
    "# your code here\n",
    "# Please label the axes and give a title to the plot \n",
    "\n",
    "avg_goals =  2.3 \n",
    "\n",
    "poisson = stats.poisson(avg_goals) \n",
    "x = np.arange(poisson.ppf(0.01), \n",
    "              poisson.ppf(0.99))\n",
    "\n",
    "fmp = poisson.pmf(x) \n",
    "\n",
    "\n",
    "plt.plot(x, fmp, '--')\n",
    "plt.vlines(x, 0, fmp, colors='b', lw=5, alpha=0.5)\n",
    "plt.title('Poisson Distribution')\n",
    "plt.ylabel('probabilidad')\n",
    "plt.xlabel('valores')\n",
    "plt.show()"
   ]
  }
 ],
 "metadata": {
  "kernelspec": {
   "display_name": "Python 3",
   "language": "python",
   "name": "python3"
  },
  "language_info": {
   "codemirror_mode": {
    "name": "ipython",
    "version": 3
   },
   "file_extension": ".py",
   "mimetype": "text/x-python",
   "name": "python",
   "nbconvert_exporter": "python",
   "pygments_lexer": "ipython3",
   "version": "3.7.6"
  }
 },
 "nbformat": 4,
 "nbformat_minor": 2
}
